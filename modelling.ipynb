{
  "cells": [
    {
      "cell_type": "markdown",
      "metadata": {
        "id": "BxmnA0vCcbeU"
      },
      "source": [
        "# Modelling for ML-Olympiad\n",
        "Notebook de modelagem para predição de notas do ENEM."
      ]
    },
    {
      "cell_type": "code",
      "execution_count": 1,
      "metadata": {
        "id": "jWGVWjnPdv63"
      },
      "outputs": [],
      "source": [
        "import os.path\n",
        "import tqdm\n",
        "import numpy as np\n",
        "import pandas as pd\n",
        "import seaborn as sns\n",
        "# from google.colab import drive"
      ]
    },
    {
      "cell_type": "code",
      "execution_count": 2,
      "metadata": {
        "colab": {
          "base_uri": "https://localhost:8080/"
        },
        "id": "GANEqCgbcZJa",
        "outputId": "a9a71acf-c3b9-4361-a8cd-f4084afb51f4"
      },
      "outputs": [],
      "source": [
        "# drive.mount('/content/drive')\n",
        "# data_source = '/content/drive/MyDrive/Projetos/ML_Olympiad'\n",
        "data_source = './data'\n",
        "train_file_path = os.path.join(data_source, 'train.csv')"
      ]
    },
    {
      "cell_type": "code",
      "execution_count": 3,
      "metadata": {
        "colab": {
          "base_uri": "https://localhost:8080/"
        },
        "id": "G0MRXHWmc6Ry",
        "outputId": "e28763e3-e92a-4d42-d87a-bfcf78170bad"
      },
      "outputs": [
        {
          "data": {
            "text/plain": [
              "(3311925, 118)"
            ]
          },
          "execution_count": 3,
          "metadata": {},
          "output_type": "execute_result"
        }
      ],
      "source": [
        "df = pd.read_csv(train_file_path)\n",
        "df.shape"
      ]
    },
    {
      "cell_type": "code",
      "execution_count": 4,
      "metadata": {
        "id": "mWJtcPa5c1pA"
      },
      "outputs": [],
      "source": [
        "categorical_columns = [\n",
        "    # Dados do Participante\n",
        "    'SG_UF_RESIDENCIA',\n",
        "    'TP_SEXO',\n",
        "    'TP_ESTADO_CIVIL',\n",
        "    'TP_COR_RACA',\n",
        "    'TP_NACIONALIDADE',\n",
        "    'SG_UF_NASCIMENTO',\n",
        "    'TP_ST_CONCLUSAO',\n",
        "    'TP_ANO_CONCLUIU',\n",
        "    'TP_ESCOLA',\n",
        "    'TP_ENSINO',\n",
        "    'IN_TREINEIRO',\n",
        "    # Dados da escola\n",
        "    'SG_UF_ESC',\n",
        "    'TP_DEPENDENCIA_ADM_ESC',\n",
        "    'TP_LOCALIZACAO_ESC',\n",
        "    'TP_SIT_FUNC_ESC',\n",
        "    # Dados do pedido de atendimento especializado\n",
        "    'IN_BAIXA_VISAO',\n",
        "    'IN_CEGUEIRA',\n",
        "    'IN_SURDEZ',\n",
        "    'IN_DEFICIENCIA_AUDITIVA',\n",
        "    'IN_SURDO_CEGUEIRA',\n",
        "    'IN_DEFICIENCIA_FISICA',\n",
        "    'IN_DEFICIENCIA_MENTAL',\n",
        "    'IN_DEFICIT_ATENCAO',\n",
        "    'IN_DISLEXIA',\n",
        "    'IN_DISCALCULIA',\n",
        "    'IN_AUTISMO',\n",
        "    'IN_VISAO_MONOCULAR',\n",
        "    'IN_OUTRA_DEF',\n",
        "    # Dados do pedido de atendimento específico\n",
        "    'IN_GESTANTE',\n",
        "    'IN_LACTANTE',\n",
        "    'IN_IDOSO',\n",
        "    'IN_ESTUDA_CLASSE_HOSPITALAR',\n",
        "    # Dados dos pedidos de recursos especializados e específicos para realização das provas\n",
        "    'IN_SEM_RECURSO',\n",
        "    'IN_BRAILLE',\n",
        "    'IN_AMPLIADA_24',\n",
        "    'IN_AMPLIADA_18',\n",
        "    'IN_LEDOR',\n",
        "    'IN_ACESSO',\n",
        "    'IN_TRANSCRICAO',\n",
        "    'IN_LIBRAS',\n",
        "    'IN_TEMPO_ADICIONAL',\n",
        "    'IN_LEITURA_LABIAL',\n",
        "    'IN_MESA_CADEIRA_RODAS',\n",
        "    'IN_MESA_CADEIRA_SEPARADA',\n",
        "    'IN_APOIO_PERNA',\n",
        "    'IN_GUIA_INTERPRETE',\n",
        "    'IN_COMPUTADOR',\n",
        "    'IN_CADEIRA_ESPECIAL',\n",
        "    'IN_CADEIRA_CANHOTO',\n",
        "    'IN_CADEIRA_ACOLCHOADA',\n",
        "    'IN_PROVA_DEITADO',\n",
        "    'IN_MOBILIARIO_OBESO',\n",
        "    'IN_LAMINA_OVERLAY',\n",
        "    'IN_PROTETOR_AURICULAR',\n",
        "    'IN_MEDIDOR_GLICOSE',\n",
        "    'IN_MAQUINA_BRAILE',\n",
        "    'IN_SOROBAN',\n",
        "    'IN_MARCA_PASSO',\n",
        "    'IN_SONDA',\n",
        "    'IN_MEDICAMENTOS',\n",
        "    'IN_SALA_INDIVIDUAL',\n",
        "    'IN_SALA_ESPECIAL',\n",
        "    'IN_SALA_ACOMPANHANTE',\n",
        "    'IN_MOBILIARIO_ESPECIFICO',\n",
        "    'IN_MATERIAL_ESPECIFICO',\n",
        "    'IN_NOME_SOCIAL',\n",
        "    # Dados do local de aplicação da prova\n",
        "    'SG_UF_PROVA',\n",
        "    # Dados da prova objetiva\n",
        "    'TP_PRESENCA_CN',\n",
        "    'TP_PRESENCA_CH',\n",
        "    'TP_PRESENCA_LC',\n",
        "    'TP_PRESENCA_MT',\n",
        "    'TP_LINGUA',\n",
        "    # Dados da redação\n",
        "    'TP_STATUS_REDACAO',\n",
        "    # Dados do questionário socioeconômico\n",
        "    'Q001',\n",
        "    'Q002',\n",
        "    'Q003',\n",
        "    'Q004',\n",
        "    'Q006',\n",
        "    'Q007',\n",
        "    'Q008',\n",
        "    'Q009',\n",
        "    'Q010',\n",
        "    'Q011',\n",
        "    'Q012',\n",
        "    'Q013',\n",
        "    'Q014',\n",
        "    'Q015',\n",
        "    'Q016',\n",
        "    'Q017',\n",
        "    'Q018',\n",
        "    'Q019',\n",
        "    'Q020',\n",
        "    'Q021',\n",
        "    'Q022',\n",
        "    'Q023',\n",
        "    'Q024',\n",
        "    'Q025'\n",
        "]"
      ]
    },
    {
      "cell_type": "code",
      "execution_count": 5,
      "metadata": {
        "id": "odt_pY0xdNjU"
      },
      "outputs": [],
      "source": [
        "numerical_columns = [\n",
        "    'NU_IDADE',\n",
        "    'Q005'\n",
        "]\n",
        "\n",
        "target_columns = [\n",
        "    'NU_NOTA_CN',\n",
        "    'NU_NOTA_CH',\n",
        "    'NU_NOTA_LC',\n",
        "    'NU_NOTA_MT',\n",
        "    'NU_NOTA_REDACAO',\n",
        "]"
      ]
    },
    {
      "cell_type": "code",
      "execution_count": 6,
      "metadata": {
        "id": "abverz27jaNc"
      },
      "outputs": [],
      "source": [
        "df[categorical_columns] = df[categorical_columns].astype('category')"
      ]
    },
    {
      "cell_type": "code",
      "execution_count": 7,
      "metadata": {
        "colab": {
          "base_uri": "https://localhost:8080/"
        },
        "id": "RV69OTLcjqYt",
        "outputId": "6c9fc0dc-cc4e-4992-8a7b-8358b435f455"
      },
      "outputs": [
        {
          "data": {
            "text/plain": [
              "Index(['NU_IDADE', 'CO_MUNICIPIO_NASCIMENTO', 'NO_MUNICIPIO_NASCIMENTO',\n",
              "       'CO_UF_NASCIMENTO', 'SG_UF_NASCIMENTO', 'TP_ENSINO', 'CO_ESCOLA',\n",
              "       'CO_MUNICIPIO_ESC', 'NO_MUNICIPIO_ESC', 'CO_UF_ESC', 'SG_UF_ESC',\n",
              "       'TP_DEPENDENCIA_ADM_ESC', 'TP_LOCALIZACAO_ESC', 'TP_SIT_FUNC_ESC',\n",
              "       'NU_NOTA_CN', 'NU_NOTA_CH', 'NU_NOTA_LC', 'NU_NOTA_MT',\n",
              "       'TP_STATUS_REDACAO', 'NU_NOTA_REDACAO'],\n",
              "      dtype='object')"
            ]
          },
          "execution_count": 7,
          "metadata": {},
          "output_type": "execute_result"
        }
      ],
      "source": [
        "df.columns[df.isna().sum() > 0]"
      ]
    },
    {
      "cell_type": "code",
      "execution_count": 8,
      "metadata": {
        "colab": {
          "base_uri": "https://localhost:8080/"
        },
        "id": "HofdodubkLAg",
        "outputId": "7399254c-d058-4f51-c2c3-262caad85cfb"
      },
      "outputs": [
        {
          "data": {
            "text/plain": [
              "NU_IDADE                   0.000010\n",
              "CO_MUNICIPIO_NASCIMENTO    0.028552\n",
              "NO_MUNICIPIO_NASCIMENTO    0.028552\n",
              "CO_UF_NASCIMENTO           0.028552\n",
              "SG_UF_NASCIMENTO           0.028552\n",
              "TP_ENSINO                  0.435267\n",
              "CO_ESCOLA                  0.774941\n",
              "CO_MUNICIPIO_ESC           0.774941\n",
              "NO_MUNICIPIO_ESC           0.774941\n",
              "CO_UF_ESC                  0.774941\n",
              "SG_UF_ESC                  0.774941\n",
              "TP_DEPENDENCIA_ADM_ESC     0.774941\n",
              "TP_LOCALIZACAO_ESC         0.774941\n",
              "TP_SIT_FUNC_ESC            0.774941\n",
              "NU_NOTA_CN                 0.271985\n",
              "NU_NOTA_CH                 0.230175\n",
              "NU_NOTA_LC                 0.230175\n",
              "NU_NOTA_MT                 0.271985\n",
              "TP_STATUS_REDACAO          0.230176\n",
              "NU_NOTA_REDACAO            0.230176\n",
              "dtype: float64"
            ]
          },
          "execution_count": 8,
          "metadata": {},
          "output_type": "execute_result"
        }
      ],
      "source": [
        "df[df.columns[df.isna().sum() > 0]].isna().sum() / df.shape[0]"
      ]
    },
    {
      "cell_type": "markdown",
      "metadata": {
        "id": "lhDEzDuNqRax"
      },
      "source": [
        "# Construção da Pipeline"
      ]
    },
    {
      "cell_type": "code",
      "execution_count": 9,
      "metadata": {
        "id": "iG1eXj3hnTPZ"
      },
      "outputs": [],
      "source": [
        "from math import sqrt\n",
        "from sklearn.compose import ColumnTransformer\n",
        "from sklearn.impute import SimpleImputer\n",
        "from sklearn.model_selection import train_test_split, KFold\n",
        "from sklearn.metrics import mean_absolute_error, mean_squared_error, r2_score\n",
        "from sklearn.pipeline import Pipeline\n",
        "from sklearn.preprocessing import StandardScaler, OneHotEncoder"
      ]
    },
    {
      "cell_type": "code",
      "execution_count": 10,
      "metadata": {
        "id": "HwgV4hKPrkEH"
      },
      "outputs": [],
      "source": [
        "numeric_transformer = Pipeline(\n",
        "    steps=[\n",
        "        ('imputer', SimpleImputer(strategy='median')),\n",
        "        ('scaler', StandardScaler())\n",
        "    ]\n",
        ")\n",
        "\n",
        "categorical_transformer = OneHotEncoder(drop='if_binary', handle_unknown='ignore')\n",
        "\n",
        "preprocessor = ColumnTransformer(\n",
        "    transformers=[\n",
        "      ('num', numeric_transformer, numerical_columns),\n",
        "      ('cat', categorical_transformer, categorical_columns)\n",
        "    ]\n",
        ")"
      ]
    },
    {
      "cell_type": "code",
      "execution_count": 11,
      "metadata": {
        "id": "gTFUleK2soPw"
      },
      "outputs": [],
      "source": [
        "X, y = df[numerical_columns + categorical_columns], df[target_columns]\n",
        "X_train, X_test, y_train, y_test = train_test_split(X, y, test_size=0.1, random_state=24)"
      ]
    },
    {
      "cell_type": "markdown",
      "metadata": {
        "id": "7g6ii2-xzRBX"
      },
      "source": [
        "# Baseline"
      ]
    },
    {
      "cell_type": "code",
      "execution_count": 12,
      "metadata": {
        "colab": {
          "base_uri": "https://localhost:8080/"
        },
        "id": "FR6x6312zhqw",
        "outputId": "e82ca2c9-08bc-4622-d4f3-f32af4fc482c"
      },
      "outputs": [],
      "source": [
        "X_train.reset_index(drop=True, inplace=True)\n",
        "X_test.reset_index(drop=True, inplace=True)\n",
        "y_train.reset_index(drop=True, inplace=True)\n",
        "y_test.reset_index(drop=True, inplace=True)"
      ]
    },
    {
      "cell_type": "code",
      "execution_count": 13,
      "metadata": {},
      "outputs": [],
      "source": [
        "from sklearn.linear_model import Lasso\n",
        "\n",
        "rgs = Pipeline(\n",
        "    steps=[\n",
        "        ('preprocessor', preprocessor),\n",
        "        ('regressor', Lasso(random_state=24))\n",
        "    ]\n",
        ")\n",
        "rgs.fit(X_train, y_train.fillna(0))\n",
        "y_pred = rgs.predict(X_test)\n",
        "print('MAE:', mean_absolute_error(y_test.fillna(0), y_pred))\n",
        "print('RMSE:', sqrt(mean_squared_error(y_test.fillna(0), y_pred)))\n",
        "print('R2:', r2_score(y_test.fillna(0), y_pred))"
      ]
    },
    {
      "cell_type": "code",
      "execution_count": 13,
      "metadata": {
        "colab": {
          "base_uri": "https://localhost:8080/"
        },
        "id": "92ljcfeds6xE",
        "outputId": "cd43da4a-5f55-4d15-db2f-760ab1db3688"
      },
      "outputs": [
        {
          "name": "stderr",
          "output_type": "stream",
          "text": [
            "0it [00:00, ?it/s]"
          ]
        }
      ],
      "source": [
        "from sklearn.linear_model import Lasso\n",
        "\n",
        "rgs = Pipeline(\n",
        "    steps=[\n",
        "        ('preprocessor', preprocessor),\n",
        "        ('regressor', Lasso(random_state=24))\n",
        "    ]\n",
        ")\n",
        "\n",
        "kfold = KFold(n_splits=5, shuffle=True, random_state=24)\n",
        "scores = []\n",
        "for train_idx, test_idx in tqdm.tqdm(kfold.split(X_train, y_train)):\n",
        "    rgs.fit(X_train.loc[train_idx], y_train.loc[train_idx].fillna(0))\n",
        "    y_pred = rgs.predict(X_train.loc[test_idx])\n",
        "    scores.append({\n",
        "        'MAE': mean_absolute_error(y_train.loc[test_idx], y_pred),\n",
        "        'RMSE': sqrt(mean_squared_error(y_train.loc[test_idx], y_pred)),\n",
        "        'R2': r2_score(y_train.loc[test_idx], y_pred),\n",
        "    })\n",
        "\n",
        "pd.DataFrame(data=scores).describe()"
      ]
    },
    {
      "cell_type": "code",
      "execution_count": null,
      "metadata": {
        "id": "iuwPImXLJ6rh"
      },
      "outputs": [],
      "source": []
    }
  ],
  "metadata": {
    "colab": {
      "collapsed_sections": [],
      "name": "modelling.ipynb",
      "provenance": []
    },
    "kernelspec": {
      "display_name": "Python 3",
      "name": "python3"
    },
    "language_info": {
      "codemirror_mode": {
        "name": "ipython",
        "version": 3
      },
      "file_extension": ".py",
      "mimetype": "text/x-python",
      "name": "python",
      "nbconvert_exporter": "python",
      "pygments_lexer": "ipython3",
      "version": "3.9.7"
    }
  },
  "nbformat": 4,
  "nbformat_minor": 0
}
