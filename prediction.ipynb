{
 "cells": [
  {
   "cell_type": "code",
   "execution_count": 1,
   "metadata": {},
   "outputs": [],
   "source": [
    "import os\n",
    "import joblib\n",
    "import numpy as np\n",
    "import pandas as pd"
   ]
  },
  {
   "cell_type": "code",
   "execution_count": 2,
   "metadata": {},
   "outputs": [
    {
     "data": {
      "text/plain": [
       "(1783345, 54)"
      ]
     },
     "execution_count": 2,
     "metadata": {},
     "output_type": "execute_result"
    }
   ],
   "source": [
    "data_folder = './data'\n",
    "df = pd.read_csv(os.path.join(data_folder, 'prep_test.csv'))\n",
    "df.shape"
   ]
  },
  {
   "cell_type": "code",
   "execution_count": 3,
   "metadata": {},
   "outputs": [
    {
     "name": "stderr",
     "output_type": "stream",
     "text": [
      "C:\\Users\\bruno\\Anaconda3\\lib\\site-packages\\sklearn\\base.py:310: UserWarning: Trying to unpickle estimator StandardScaler from version 1.0.2 when using version 0.24.1. This might lead to breaking code or invalid results. Use at your own risk.\n",
      "  warnings.warn(\n",
      "C:\\Users\\bruno\\Anaconda3\\lib\\site-packages\\sklearn\\base.py:310: UserWarning: Trying to unpickle estimator MLPRegressor from version 1.0.2 when using version 0.24.1. This might lead to breaking code or invalid results. Use at your own risk.\n",
      "  warnings.warn(\n",
      "C:\\Users\\bruno\\Anaconda3\\lib\\site-packages\\sklearn\\base.py:310: UserWarning: Trying to unpickle estimator Pipeline from version 1.0.2 when using version 0.24.1. This might lead to breaking code or invalid results. Use at your own risk.\n",
      "  warnings.warn(\n"
     ]
    },
    {
     "data": {
      "text/plain": [
       "Pipeline(steps=[('standardscaler', StandardScaler()),\n",
       "                ('mlpregressor',\n",
       "                 MLPRegressor(hidden_layer_sizes=(40, 20, 10),\n",
       "                              random_state=7))])"
      ]
     },
     "execution_count": 3,
     "metadata": {},
     "output_type": "execute_result"
    }
   ],
   "source": [
    "regressor = joblib.load('./models/2_neural_net.pkl')\n",
    "regressor"
   ]
  },
  {
   "cell_type": "code",
   "execution_count": 21,
   "metadata": {},
   "outputs": [
    {
     "data": {
      "text/plain": [
       "(1783345, 5)"
      ]
     },
     "execution_count": 21,
     "metadata": {},
     "output_type": "execute_result"
    }
   ],
   "source": [
    "y_pred = regressor.predict(df)\n",
    "y_pred.shape"
   ]
  },
  {
   "cell_type": "code",
   "execution_count": 22,
   "metadata": {},
   "outputs": [],
   "source": [
    "target_columns = [\n",
    "    'nu_nota_lc',\n",
    "    'nu_nota_ch',\n",
    "    'nu_nota_cn',\n",
    "    'nu_nota_mt',\n",
    "    'nu_nota_redacao'\n",
    "]"
   ]
  },
  {
   "cell_type": "code",
   "execution_count": 17,
   "metadata": {},
   "outputs": [
    {
     "data": {
      "text/html": [
       "<div>\n",
       "<style scoped>\n",
       "    .dataframe tbody tr th:only-of-type {\n",
       "        vertical-align: middle;\n",
       "    }\n",
       "\n",
       "    .dataframe tbody tr th {\n",
       "        vertical-align: top;\n",
       "    }\n",
       "\n",
       "    .dataframe thead th {\n",
       "        text-align: right;\n",
       "    }\n",
       "</style>\n",
       "<table border=\"1\" class=\"dataframe\">\n",
       "  <thead>\n",
       "    <tr style=\"text-align: right;\">\n",
       "      <th></th>\n",
       "      <th>NU_INSCRICAO</th>\n",
       "      <th>TP_PRESENCA_CN</th>\n",
       "      <th>TP_PRESENCA_CH</th>\n",
       "      <th>TP_PRESENCA_LC</th>\n",
       "      <th>TP_PRESENCA_MT</th>\n",
       "      <th>TP_STATUS_REDACAO</th>\n",
       "    </tr>\n",
       "  </thead>\n",
       "  <tbody>\n",
       "    <tr>\n",
       "      <th>0</th>\n",
       "      <td>5d5b362b-7388-4ac6-81b3-23573e4e2d3a</td>\n",
       "      <td>0</td>\n",
       "      <td>0</td>\n",
       "      <td>0</td>\n",
       "      <td>0</td>\n",
       "      <td>NaN</td>\n",
       "    </tr>\n",
       "    <tr>\n",
       "      <th>1</th>\n",
       "      <td>52356efd-3239-4cd2-a444-416625dfc560</td>\n",
       "      <td>1</td>\n",
       "      <td>1</td>\n",
       "      <td>1</td>\n",
       "      <td>1</td>\n",
       "      <td>1.0</td>\n",
       "    </tr>\n",
       "    <tr>\n",
       "      <th>2</th>\n",
       "      <td>1ba42e9a-dd61-4405-9b08-79b728ad23c9</td>\n",
       "      <td>1</td>\n",
       "      <td>1</td>\n",
       "      <td>1</td>\n",
       "      <td>1</td>\n",
       "      <td>1.0</td>\n",
       "    </tr>\n",
       "    <tr>\n",
       "      <th>3</th>\n",
       "      <td>16fa0f84-a88f-43e6-bcbb-8d5ea41e5f03</td>\n",
       "      <td>1</td>\n",
       "      <td>1</td>\n",
       "      <td>1</td>\n",
       "      <td>1</td>\n",
       "      <td>1.0</td>\n",
       "    </tr>\n",
       "    <tr>\n",
       "      <th>4</th>\n",
       "      <td>fa663d11-5052-4ab2-b771-3a3de3bdec55</td>\n",
       "      <td>1</td>\n",
       "      <td>1</td>\n",
       "      <td>1</td>\n",
       "      <td>1</td>\n",
       "      <td>1.0</td>\n",
       "    </tr>\n",
       "  </tbody>\n",
       "</table>\n",
       "</div>"
      ],
      "text/plain": [
       "                           NU_INSCRICAO  TP_PRESENCA_CN  TP_PRESENCA_CH  \\\n",
       "0  5d5b362b-7388-4ac6-81b3-23573e4e2d3a               0               0   \n",
       "1  52356efd-3239-4cd2-a444-416625dfc560               1               1   \n",
       "2  1ba42e9a-dd61-4405-9b08-79b728ad23c9               1               1   \n",
       "3  16fa0f84-a88f-43e6-bcbb-8d5ea41e5f03               1               1   \n",
       "4  fa663d11-5052-4ab2-b771-3a3de3bdec55               1               1   \n",
       "\n",
       "   TP_PRESENCA_LC  TP_PRESENCA_MT  TP_STATUS_REDACAO  \n",
       "0               0               0                NaN  \n",
       "1               1               1                1.0  \n",
       "2               1               1                1.0  \n",
       "3               1               1                1.0  \n",
       "4               1               1                1.0  "
      ]
     },
     "execution_count": 17,
     "metadata": {},
     "output_type": "execute_result"
    }
   ],
   "source": [
    "df_test = pd.read_csv(os.path.join(data_folder, 'test.csv'), usecols=['NU_INSCRICAO', 'TP_PRESENCA_CN', 'TP_PRESENCA_CH', 'TP_PRESENCA_LC', 'TP_PRESENCA_MT', 'TP_STATUS_REDACAO'])\n",
    "df_test.head()"
   ]
  },
  {
   "cell_type": "code",
   "execution_count": 18,
   "metadata": {},
   "outputs": [
    {
     "data": {
      "text/plain": [
       "NU_INSCRICAO              0\n",
       "TP_PRESENCA_CN            0\n",
       "TP_PRESENCA_CH            0\n",
       "TP_PRESENCA_LC            0\n",
       "TP_PRESENCA_MT            0\n",
       "TP_STATUS_REDACAO    409802\n",
       "dtype: int64"
      ]
     },
     "execution_count": 18,
     "metadata": {},
     "output_type": "execute_result"
    }
   ],
   "source": [
    "df_test.isna().sum()"
   ]
  },
  {
   "cell_type": "code",
   "execution_count": 19,
   "metadata": {},
   "outputs": [],
   "source": [
    "df_test['TP_STATUS_REDACAO'] = df_test['TP_STATUS_REDACAO'].fillna(0)"
   ]
  },
  {
   "cell_type": "code",
   "execution_count": 23,
   "metadata": {},
   "outputs": [
    {
     "data": {
      "text/html": [
       "<div>\n",
       "<style scoped>\n",
       "    .dataframe tbody tr th:only-of-type {\n",
       "        vertical-align: middle;\n",
       "    }\n",
       "\n",
       "    .dataframe tbody tr th {\n",
       "        vertical-align: top;\n",
       "    }\n",
       "\n",
       "    .dataframe thead th {\n",
       "        text-align: right;\n",
       "    }\n",
       "</style>\n",
       "<table border=\"1\" class=\"dataframe\">\n",
       "  <thead>\n",
       "    <tr style=\"text-align: right;\">\n",
       "      <th></th>\n",
       "      <th>NU_NOTA_LC</th>\n",
       "      <th>NU_NOTA_CH</th>\n",
       "      <th>NU_NOTA_CN</th>\n",
       "      <th>NU_NOTA_MT</th>\n",
       "      <th>NU_NOTA_REDACAO</th>\n",
       "    </tr>\n",
       "  </thead>\n",
       "  <tbody>\n",
       "    <tr>\n",
       "      <th>count</th>\n",
       "      <td>1.783345e+06</td>\n",
       "      <td>1.783345e+06</td>\n",
       "      <td>1.783345e+06</td>\n",
       "      <td>1.783345e+06</td>\n",
       "      <td>1.783345e+06</td>\n",
       "    </tr>\n",
       "    <tr>\n",
       "      <th>mean</th>\n",
       "      <td>5.217763e+02</td>\n",
       "      <td>5.096157e+02</td>\n",
       "      <td>4.782514e+02</td>\n",
       "      <td>5.200521e+02</td>\n",
       "      <td>5.739425e+02</td>\n",
       "    </tr>\n",
       "    <tr>\n",
       "      <th>std</th>\n",
       "      <td>3.495157e+01</td>\n",
       "      <td>4.255279e+01</td>\n",
       "      <td>4.170356e+01</td>\n",
       "      <td>6.252117e+01</td>\n",
       "      <td>8.438451e+01</td>\n",
       "    </tr>\n",
       "    <tr>\n",
       "      <th>min</th>\n",
       "      <td>4.080550e+02</td>\n",
       "      <td>4.009019e+02</td>\n",
       "      <td>3.799966e+02</td>\n",
       "      <td>3.811247e+02</td>\n",
       "      <td>2.294500e+02</td>\n",
       "    </tr>\n",
       "    <tr>\n",
       "      <th>25%</th>\n",
       "      <td>4.965091e+02</td>\n",
       "      <td>4.782292e+02</td>\n",
       "      <td>4.469828e+02</td>\n",
       "      <td>4.731230e+02</td>\n",
       "      <td>5.216369e+02</td>\n",
       "    </tr>\n",
       "    <tr>\n",
       "      <th>50%</th>\n",
       "      <td>5.177017e+02</td>\n",
       "      <td>5.016768e+02</td>\n",
       "      <td>4.683003e+02</td>\n",
       "      <td>5.045720e+02</td>\n",
       "      <td>5.621603e+02</td>\n",
       "    </tr>\n",
       "    <tr>\n",
       "      <th>75%</th>\n",
       "      <td>5.435147e+02</td>\n",
       "      <td>5.334538e+02</td>\n",
       "      <td>4.997510e+02</td>\n",
       "      <td>5.525057e+02</td>\n",
       "      <td>6.161572e+02</td>\n",
       "    </tr>\n",
       "    <tr>\n",
       "      <th>max</th>\n",
       "      <td>6.435661e+02</td>\n",
       "      <td>6.841307e+02</td>\n",
       "      <td>6.348929e+02</td>\n",
       "      <td>7.759007e+02</td>\n",
       "      <td>8.813980e+02</td>\n",
       "    </tr>\n",
       "  </tbody>\n",
       "</table>\n",
       "</div>"
      ],
      "text/plain": [
       "         NU_NOTA_LC    NU_NOTA_CH    NU_NOTA_CN    NU_NOTA_MT  NU_NOTA_REDACAO\n",
       "count  1.783345e+06  1.783345e+06  1.783345e+06  1.783345e+06     1.783345e+06\n",
       "mean   5.217763e+02  5.096157e+02  4.782514e+02  5.200521e+02     5.739425e+02\n",
       "std    3.495157e+01  4.255279e+01  4.170356e+01  6.252117e+01     8.438451e+01\n",
       "min    4.080550e+02  4.009019e+02  3.799966e+02  3.811247e+02     2.294500e+02\n",
       "25%    4.965091e+02  4.782292e+02  4.469828e+02  4.731230e+02     5.216369e+02\n",
       "50%    5.177017e+02  5.016768e+02  4.683003e+02  5.045720e+02     5.621603e+02\n",
       "75%    5.435147e+02  5.334538e+02  4.997510e+02  5.525057e+02     6.161572e+02\n",
       "max    6.435661e+02  6.841307e+02  6.348929e+02  7.759007e+02     8.813980e+02"
      ]
     },
     "execution_count": 23,
     "metadata": {},
     "output_type": "execute_result"
    }
   ],
   "source": [
    "df_pred = pd.DataFrame(data=y_pred, columns=[c.upper() for c in target_columns])\n",
    "df_pred.describe()"
   ]
  },
  {
   "cell_type": "code",
   "execution_count": 24,
   "metadata": {},
   "outputs": [
    {
     "data": {
      "text/html": [
       "<div>\n",
       "<style scoped>\n",
       "    .dataframe tbody tr th:only-of-type {\n",
       "        vertical-align: middle;\n",
       "    }\n",
       "\n",
       "    .dataframe tbody tr th {\n",
       "        vertical-align: top;\n",
       "    }\n",
       "\n",
       "    .dataframe thead th {\n",
       "        text-align: right;\n",
       "    }\n",
       "</style>\n",
       "<table border=\"1\" class=\"dataframe\">\n",
       "  <thead>\n",
       "    <tr style=\"text-align: right;\">\n",
       "      <th></th>\n",
       "      <th>NU_NOTA_LC</th>\n",
       "      <th>NU_NOTA_CH</th>\n",
       "      <th>NU_NOTA_CN</th>\n",
       "      <th>NU_NOTA_MT</th>\n",
       "      <th>NU_NOTA_REDACAO</th>\n",
       "    </tr>\n",
       "  </thead>\n",
       "  <tbody>\n",
       "    <tr>\n",
       "      <th>count</th>\n",
       "      <td>1.783345e+06</td>\n",
       "      <td>1.783345e+06</td>\n",
       "      <td>1.783345e+06</td>\n",
       "      <td>1.783345e+06</td>\n",
       "      <td>1.783345e+06</td>\n",
       "    </tr>\n",
       "    <tr>\n",
       "      <th>mean</th>\n",
       "      <td>4.030806e+02</td>\n",
       "      <td>3.937197e+02</td>\n",
       "      <td>3.501709e+02</td>\n",
       "      <td>3.823660e+02</td>\n",
       "      <td>4.323372e+02</td>\n",
       "    </tr>\n",
       "    <tr>\n",
       "      <th>std</th>\n",
       "      <td>2.223219e+02</td>\n",
       "      <td>2.183365e+02</td>\n",
       "      <td>2.168229e+02</td>\n",
       "      <td>2.396582e+02</td>\n",
       "      <td>2.652915e+02</td>\n",
       "    </tr>\n",
       "    <tr>\n",
       "      <th>min</th>\n",
       "      <td>0.000000e+00</td>\n",
       "      <td>0.000000e+00</td>\n",
       "      <td>0.000000e+00</td>\n",
       "      <td>0.000000e+00</td>\n",
       "      <td>0.000000e+00</td>\n",
       "    </tr>\n",
       "    <tr>\n",
       "      <th>25%</th>\n",
       "      <td>4.649640e+02</td>\n",
       "      <td>4.487671e+02</td>\n",
       "      <td>0.000000e+00</td>\n",
       "      <td>0.000000e+00</td>\n",
       "      <td>0.000000e+00</td>\n",
       "    </tr>\n",
       "    <tr>\n",
       "      <th>50%</th>\n",
       "      <td>5.065524e+02</td>\n",
       "      <td>4.887179e+02</td>\n",
       "      <td>4.535224e+02</td>\n",
       "      <td>4.839319e+02</td>\n",
       "      <td>5.409527e+02</td>\n",
       "    </tr>\n",
       "    <tr>\n",
       "      <th>75%</th>\n",
       "      <td>5.365451e+02</td>\n",
       "      <td>5.242522e+02</td>\n",
       "      <td>4.887262e+02</td>\n",
       "      <td>5.369073e+02</td>\n",
       "      <td>6.020769e+02</td>\n",
       "    </tr>\n",
       "    <tr>\n",
       "      <th>max</th>\n",
       "      <td>6.405200e+02</td>\n",
       "      <td>6.841307e+02</td>\n",
       "      <td>6.348929e+02</td>\n",
       "      <td>7.759007e+02</td>\n",
       "      <td>8.813980e+02</td>\n",
       "    </tr>\n",
       "  </tbody>\n",
       "</table>\n",
       "</div>"
      ],
      "text/plain": [
       "         NU_NOTA_LC    NU_NOTA_CH    NU_NOTA_CN    NU_NOTA_MT  NU_NOTA_REDACAO\n",
       "count  1.783345e+06  1.783345e+06  1.783345e+06  1.783345e+06     1.783345e+06\n",
       "mean   4.030806e+02  3.937197e+02  3.501709e+02  3.823660e+02     4.323372e+02\n",
       "std    2.223219e+02  2.183365e+02  2.168229e+02  2.396582e+02     2.652915e+02\n",
       "min    0.000000e+00  0.000000e+00  0.000000e+00  0.000000e+00     0.000000e+00\n",
       "25%    4.649640e+02  4.487671e+02  0.000000e+00  0.000000e+00     0.000000e+00\n",
       "50%    5.065524e+02  4.887179e+02  4.535224e+02  4.839319e+02     5.409527e+02\n",
       "75%    5.365451e+02  5.242522e+02  4.887262e+02  5.369073e+02     6.020769e+02\n",
       "max    6.405200e+02  6.841307e+02  6.348929e+02  7.759007e+02     8.813980e+02"
      ]
     },
     "execution_count": 24,
     "metadata": {},
     "output_type": "execute_result"
    }
   ],
   "source": [
    "df_pred.loc[df_test['TP_PRESENCA_LC'] != 1, 'NU_NOTA_LC'] = 0\n",
    "df_pred.loc[df_test['TP_PRESENCA_CH'] != 1, 'NU_NOTA_CH'] = 0\n",
    "df_pred.loc[df_test['TP_PRESENCA_CN'] != 1, 'NU_NOTA_CN'] = 0\n",
    "df_pred.loc[df_test['TP_PRESENCA_MT'] != 1, 'NU_NOTA_MT'] = 0\n",
    "df_pred.loc[df_test['TP_STATUS_REDACAO'] != 1, 'NU_NOTA_REDACAO'] = 0\n",
    "df_pred.describe()"
   ]
  },
  {
   "cell_type": "code",
   "execution_count": 25,
   "metadata": {},
   "outputs": [
    {
     "data": {
      "text/html": [
       "<div>\n",
       "<style scoped>\n",
       "    .dataframe tbody tr th:only-of-type {\n",
       "        vertical-align: middle;\n",
       "    }\n",
       "\n",
       "    .dataframe tbody tr th {\n",
       "        vertical-align: top;\n",
       "    }\n",
       "\n",
       "    .dataframe thead th {\n",
       "        text-align: right;\n",
       "    }\n",
       "</style>\n",
       "<table border=\"1\" class=\"dataframe\">\n",
       "  <thead>\n",
       "    <tr style=\"text-align: right;\">\n",
       "      <th></th>\n",
       "      <th>NU_INSCRICAO</th>\n",
       "      <th>NU_NOTA_LC</th>\n",
       "      <th>NU_NOTA_CH</th>\n",
       "      <th>NU_NOTA_CN</th>\n",
       "      <th>NU_NOTA_MT</th>\n",
       "      <th>NU_NOTA_REDACAO</th>\n",
       "    </tr>\n",
       "  </thead>\n",
       "  <tbody>\n",
       "    <tr>\n",
       "      <th>0</th>\n",
       "      <td>5d5b362b-7388-4ac6-81b3-23573e4e2d3a</td>\n",
       "      <td>0.000000</td>\n",
       "      <td>0.000000</td>\n",
       "      <td>0.000000</td>\n",
       "      <td>0.000000</td>\n",
       "      <td>0.000000</td>\n",
       "    </tr>\n",
       "    <tr>\n",
       "      <th>1</th>\n",
       "      <td>52356efd-3239-4cd2-a444-416625dfc560</td>\n",
       "      <td>573.815418</td>\n",
       "      <td>565.555627</td>\n",
       "      <td>532.116832</td>\n",
       "      <td>590.616825</td>\n",
       "      <td>722.941374</td>\n",
       "    </tr>\n",
       "    <tr>\n",
       "      <th>2</th>\n",
       "      <td>1ba42e9a-dd61-4405-9b08-79b728ad23c9</td>\n",
       "      <td>540.854777</td>\n",
       "      <td>528.494109</td>\n",
       "      <td>500.018080</td>\n",
       "      <td>548.420040</td>\n",
       "      <td>628.782482</td>\n",
       "    </tr>\n",
       "    <tr>\n",
       "      <th>3</th>\n",
       "      <td>16fa0f84-a88f-43e6-bcbb-8d5ea41e5f03</td>\n",
       "      <td>556.094278</td>\n",
       "      <td>554.426727</td>\n",
       "      <td>520.631035</td>\n",
       "      <td>595.904716</td>\n",
       "      <td>613.951444</td>\n",
       "    </tr>\n",
       "    <tr>\n",
       "      <th>4</th>\n",
       "      <td>fa663d11-5052-4ab2-b771-3a3de3bdec55</td>\n",
       "      <td>558.077786</td>\n",
       "      <td>558.761156</td>\n",
       "      <td>530.753124</td>\n",
       "      <td>606.569177</td>\n",
       "      <td>659.912803</td>\n",
       "    </tr>\n",
       "  </tbody>\n",
       "</table>\n",
       "</div>"
      ],
      "text/plain": [
       "                           NU_INSCRICAO  NU_NOTA_LC  NU_NOTA_CH  NU_NOTA_CN  \\\n",
       "0  5d5b362b-7388-4ac6-81b3-23573e4e2d3a    0.000000    0.000000    0.000000   \n",
       "1  52356efd-3239-4cd2-a444-416625dfc560  573.815418  565.555627  532.116832   \n",
       "2  1ba42e9a-dd61-4405-9b08-79b728ad23c9  540.854777  528.494109  500.018080   \n",
       "3  16fa0f84-a88f-43e6-bcbb-8d5ea41e5f03  556.094278  554.426727  520.631035   \n",
       "4  fa663d11-5052-4ab2-b771-3a3de3bdec55  558.077786  558.761156  530.753124   \n",
       "\n",
       "   NU_NOTA_MT  NU_NOTA_REDACAO  \n",
       "0    0.000000         0.000000  \n",
       "1  590.616825       722.941374  \n",
       "2  548.420040       628.782482  \n",
       "3  595.904716       613.951444  \n",
       "4  606.569177       659.912803  "
      ]
     },
     "execution_count": 25,
     "metadata": {},
     "output_type": "execute_result"
    }
   ],
   "source": [
    "df_submission = df_test.join(df_pred).drop(columns=['TP_PRESENCA_CN', 'TP_PRESENCA_CH', 'TP_PRESENCA_LC', 'TP_PRESENCA_MT', 'TP_STATUS_REDACAO'])\n",
    "df_submission.head()"
   ]
  },
  {
   "cell_type": "code",
   "execution_count": 26,
   "metadata": {},
   "outputs": [],
   "source": [
    "df_submission.to_csv('submissions/3_pred.csv', index=False)"
   ]
  },
  {
   "cell_type": "code",
   "execution_count": null,
   "metadata": {},
   "outputs": [],
   "source": []
  }
 ],
 "metadata": {
  "interpreter": {
   "hash": "003ac9aaa1485d5b771c302278ee1fa2d675754790301e4c4d0b7cf7d8ab189c"
  },
  "kernelspec": {
   "display_name": "Python 3.8.8 ('base')",
   "language": "python",
   "name": "python3"
  },
  "language_info": {
   "codemirror_mode": {
    "name": "ipython",
    "version": 3
   },
   "file_extension": ".py",
   "mimetype": "text/x-python",
   "name": "python",
   "nbconvert_exporter": "python",
   "pygments_lexer": "ipython3",
   "version": "3.8.8"
  },
  "orig_nbformat": 4
 },
 "nbformat": 4,
 "nbformat_minor": 2
}
